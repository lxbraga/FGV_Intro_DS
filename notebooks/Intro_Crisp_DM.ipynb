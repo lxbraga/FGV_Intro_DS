{
 "cells": [
  {
   "cell_type": "markdown",
   "source": [
    "## Introduction to Data Science\n",
    "\n",
    "## The CRISP-DM approach to Data Science Tasks"
   ],
   "metadata": {
    "cell_id": "00000-46d651e2-f6c3-4ea9-8df0-df67f84b68ab",
    "deepnote_cell_type": "markdown"
   }
  },
  {
   "cell_type": "markdown",
   "source": [
    "_________________________"
   ],
   "metadata": {
    "cell_id": "00001-d909952a-9373-4941-a2ec-993a0b867c6e",
    "deepnote_cell_type": "markdown"
   }
  },
  {
   "cell_type": "markdown",
   "source": [
    "## I. Business Understanding\n",
    "                    \n",
    "#### The Business Understanding phase focuses on understanding the objectives and requirements of the project.  \n",
    "+ Determine business objectives: Determinar formas de auxiliar um estudante internacional recém-formado a conseguir um bom emprego nos EUA   \n",
    "+ Assess situation:  Muitos dados disponíveis, inclusive com uma mudança política no meio do caminho o que pode gerar resultados interessantes.\n",
    "+ Determine data mining goals: Coletar dados sobre status das aplicações, empresa, cargo, salário e localização\n",
    "+ Produce project plan:  Achar padrões e informações interessantes sobre a questão imigratória e nível salarial/de escolaridade. Se possível, no futuro, tentar interagir com outros datasets (como nacionalidade dos imigrantes, grau de escolaridade, e PPP por estado/cidade) e achar informações relevantes para cada emprego, local e salário."
   ],
   "metadata": {
    "cell_id": "00002-f0ba49af-962f-474f-8397-5865b7aa7fdd",
    "deepnote_cell_type": "markdown"
   }
  },
  {
   "cell_type": "code",
   "execution_count": 1,
   "source": [
    "# Import the os module\n",
    "import os\n",
    "\n",
    "import sys\n",
    "import time\n",
    "import pickle\n",
    "import itertools\n",
    "import pandas as pd\n",
    "import numpy as np\n",
    "import pylab\n",
    "import warnings\n",
    "import seaborn as sns\n",
    "\n",
    "#import statsmodels.api as sm\n",
    "#import statsmodels.formula.api as smf\n",
    "\n",
    "import matplotlib\n",
    "import matplotlib.pyplot as plt\n",
    "from matplotlib.pyplot import pie\n",
    "#from matplotlib.font_manager import FontProperties\n",
    "import seaborn as sns\n",
    "\n",
    "from IPython.display import display, Image\n",
    "from IPython.core.interactiveshell import InteractiveShell\n",
    "\n",
    "#%matplotlib inline\n",
    "#%matplotlib notebook\n",
    "#matplotlib.rcdefaults()\n",
    "#matplotlib.verbose.set_level('silent')\n",
    "\n",
    "data1 = pd.read_csv(\"../../h1b_disclosure_data_2015_2019.csv\", index_col=False)"
   ],
   "outputs": [],
   "metadata": {
    "tags": [],
    "cell_id": "00003-996a54dd-4f15-468f-83d0-6445413a66c1",
    "deepnote_to_be_reexecuted": false,
    "source_hash": "c2afffbf",
    "execution_start": 1632177911832,
    "execution_millis": 3528,
    "deepnote_cell_type": "code"
   }
  },
  {
   "cell_type": "code",
   "execution_count": 1,
   "source": [],
   "outputs": [],
   "metadata": {
    "cell_id": "00003-aad59470-1d3b-4bad-9a5e-0ccec0d89c19",
    "deepnote_to_be_reexecuted": false,
    "source_hash": "b623e53d",
    "execution_start": 1632177915369,
    "execution_millis": 0,
    "deepnote_cell_type": "code"
   }
  },
  {
   "cell_type": "markdown",
   "source": [
    "## II. Data Understanding  \n",
    "\n",
    "+ Collect initial data: Conjunto de dados sobre aprovação de vistos para estudantes internacionais nos EUA entre os anos de 2015 e 2019. Contém informações sobre a classificação do visto, empresa empregadora, área e código do cargo, assim como nome, classificação da jornada de trabalho (tempo integral ou meio-período), salário prevalecente para o cargo dada a empresa, cidade e estado do trabalho. \n",
    "+ Describe data: \n",
    "+ Explore data:  \n",
    "+ Verify data quality: A maior parte dos dados estava correta e boa suficiente para uso. Alguns cargos tinham o nome social trocado com código social, o que foi corrigido. Muitos cargos também apresentam nomes similares, com diferença de praticamente uma letra entre eles (em especial plurais), que foram agrupados para serem considerados um cargo único.   "
   ],
   "metadata": {
    "cell_id": "00004-3fafec38-6446-4260-a855-bbac7b2ec6dc",
    "deepnote_cell_type": "markdown"
   }
  },
  {
   "cell_type": "code",
   "execution_count": 2,
   "source": [
    "data1.info()"
   ],
   "outputs": [
    {
     "output_type": "stream",
     "name": "stdout",
     "text": [
      "<class 'pandas.core.frame.DataFrame'>\n",
      "RangeIndex: 857216 entries, 0 to 857215\n",
      "Data columns (total 13 columns):\n",
      " #   Column               Non-Null Count   Dtype  \n",
      "---  ------               --------------   -----  \n",
      " 0   CASE_NUMBER          857216 non-null  object \n",
      " 1   CASE_STATUS          857216 non-null  object \n",
      " 2   EMPLOYER_NAME        857195 non-null  object \n",
      " 3   SOC_NAME             857210 non-null  object \n",
      " 4   SOC_CODE             857212 non-null  object \n",
      " 5   JOB_TITLE            857211 non-null  object \n",
      " 6   FULL_TIME_POSITION   857215 non-null  object \n",
      " 7   PREVAILING_WAGE      857212 non-null  float64\n",
      " 8   WORKSITE_CITY        857188 non-null  object \n",
      " 9   WORKSITE_STATE_ABB   857216 non-null  object \n",
      " 10  YEAR                 857216 non-null  int64  \n",
      " 11  WORKSITE_STATE_FULL  857216 non-null  object \n",
      " 12  WORKSITE             857216 non-null  object \n",
      "dtypes: float64(1), int64(1), object(11)\n",
      "memory usage: 85.0+ MB\n"
     ]
    }
   ],
   "metadata": {
    "tags": [],
    "cell_id": "00006-c6fb1523-b95a-4c15-9abc-f2202f18a127",
    "deepnote_to_be_reexecuted": false,
    "source_hash": "b2c7ae9c",
    "execution_start": 1632177915374,
    "execution_millis": 341,
    "deepnote_cell_type": "code"
   }
  },
  {
   "cell_type": "code",
   "execution_count": 3,
   "source": [
    "data1.info"
   ],
   "outputs": [
    {
     "output_type": "execute_result",
     "data": {
      "text/plain": [
       "<bound method DataFrame.info of                CASE_NUMBER          CASE_STATUS  \\\n",
       "0       I-200-09285-514415            CERTIFIED   \n",
       "1       I-200-09341-564186  CERTIFIED-WITHDRAWN   \n",
       "2       I-200-09342-274341            CERTIFIED   \n",
       "3       I-200-09364-425868            CERTIFIED   \n",
       "4       I-200-10006-413683            WITHDRAWN   \n",
       "...                    ...                  ...   \n",
       "857211  I-200-19053-522403            CERTIFIED   \n",
       "857212  I-200-18282-647333            CERTIFIED   \n",
       "857213  I-200-19046-203745               DENIED   \n",
       "857214  I-200-19059-900658               DENIED   \n",
       "857215  I-200-19073-908844               DENIED   \n",
       "\n",
       "                                   EMPLOYER_NAME  \\\n",
       "0                                    IT CATS LLC   \n",
       "1                       XPERT TECHNOLOGIES, INC.   \n",
       "2                             ISR INFO WAY, INC.   \n",
       "3           MAGIC CIRCLE FILMS INTERNATIONAL LLC   \n",
       "4                          SAPHIRE SOLUTIONS INC   \n",
       "...                                          ...   \n",
       "857211                           JETBLUE AIRWAYS   \n",
       "857212  AMERICAN FAMILY MUTUAL INSURANCE COMPANY   \n",
       "857213                     CAPGEMINI AMERICA INC   \n",
       "857214                     CAPGEMINI AMERICA INC   \n",
       "857215                     CAPGEMINI AMERICA INC   \n",
       "\n",
       "                                           SOC_NAME  \\\n",
       "0                         COMPUTER SYSTEMS ANALYSTS   \n",
       "1                  COMPUTER OCCUPATIONS, ALL OTHER*   \n",
       "2                 SOFTWARE DEVELOPERS, APPLICATIONS   \n",
       "3                            FILM AND VIDEO EDITORS   \n",
       "4       NETWORK AND COMPUTER SYSTEMS ADMINISTRATORS   \n",
       "...                                             ...   \n",
       "857211                    TRANSPORTATION INSPECTORS   \n",
       "857212                                      15-2031   \n",
       "857213                                          NaN   \n",
       "857214                                          NaN   \n",
       "857215                                          NaN   \n",
       "\n",
       "                            SOC_CODE                       JOB_TITLE  \\\n",
       "0                            15-1121         SENIOR BUSINESS ANALYST   \n",
       "1                            15-1799       QUALITY ASSURANCE ANALYST   \n",
       "2                            15-1132          SR. SOFTWARE DEVELOPER   \n",
       "3                            27-4032                    VIDEO EDITOR   \n",
       "4                            15-1142           SYSTEMS ADMINISTRATOR   \n",
       "...                              ...                             ...   \n",
       "857211                       53-6051  SENIOR INVESTIGATOR AIR SAFETY   \n",
       "857212  OPERATIONS RESEARCH ANALYSTS     DIGITAL TOUCHPOINTS ANALYST   \n",
       "857213                           NaN       APPLICATIONS CONSULTANT 2   \n",
       "857214                           NaN      BUSINESS SYSTEMS ANALYST 2   \n",
       "857215                           NaN      BUSINESS SYSTEMS ANALYST 2   \n",
       "\n",
       "       FULL_TIME_POSITION  PREVAILING_WAGE     WORKSITE_CITY  \\\n",
       "0                       Y         109116.8      NORTH WALES,   \n",
       "1                       Y          58282.0         CAMP HILL   \n",
       "2                       Y          84906.0           CHICAGO   \n",
       "3                       Y          39333.0            AUBURN   \n",
       "4                       Y          68638.0          BETHPAGE   \n",
       "...                   ...              ...               ...   \n",
       "857211                  Y          74152.0  Long Island City   \n",
       "857212                  Y          75733.0           MADISON   \n",
       "857213                  Y          80704.0          DEARBORN   \n",
       "857214                  Y          74443.0          NEW YORK   \n",
       "857215                  Y          66643.0           MADISON   \n",
       "\n",
       "       WORKSITE_STATE_ABB  YEAR WORKSITE_STATE_FULL  \\\n",
       "0                      PA  2015        PENNSYLVANIA   \n",
       "1                      PA  2015        PENNSYLVANIA   \n",
       "2                      IL  2015            ILLINOIS   \n",
       "3                      NY  2015            NEW YORK   \n",
       "4                      NY  2015            NEW YORK   \n",
       "...                   ...   ...                 ...   \n",
       "857211            NEWYORK  2019            NEW YORK   \n",
       "857212                 WI  2019           WISCONSIN   \n",
       "857213           MICHIGAN  2019            MICHIGAN   \n",
       "857214            NEWYORK  2019            NEW YORK   \n",
       "857215          WISCONSIN  2019           WISCONSIN   \n",
       "\n",
       "                          WORKSITE  \n",
       "0        NORTH WALES, PENNSYLVANIA  \n",
       "1          CAMP HILL, PENNSYLVANIA  \n",
       "2                CHICAGO, ILLINOIS  \n",
       "3                 AUBURN, NEW YORK  \n",
       "4               BETHPAGE, NEW YORK  \n",
       "...                            ...  \n",
       "857211  Long Island City, NEW YORK  \n",
       "857212          MADISON, WISCONSIN  \n",
       "857213          DEARBORN, MICHIGAN  \n",
       "857214          NEW YORK, NEW YORK  \n",
       "857215          MADISON, WISCONSIN  \n",
       "\n",
       "[857216 rows x 13 columns]>"
      ]
     },
     "metadata": {},
     "execution_count": 3
    }
   ],
   "metadata": {
    "tags": [],
    "cell_id": "00007-60540731-140c-4cd8-b624-137f8e9b9744",
    "deepnote_to_be_reexecuted": false,
    "source_hash": "8b3a475f",
    "execution_start": 1632177915712,
    "execution_millis": 24,
    "deepnote_cell_type": "code"
   }
  },
  {
   "cell_type": "code",
   "execution_count": 4,
   "source": [
    "data1.describe()"
   ],
   "outputs": [
    {
     "output_type": "execute_result",
     "data": {
      "application/vnd.deepnote.dataframe.v2+json": {
       "row_count": 8,
       "column_count": 2,
       "columns": [
        {
         "name": "PREVAILING_WAGE",
         "dtype": "float64",
         "stats": {
          "unique_count": 8,
          "nan_count": 0,
          "min": "0.0",
          "max": "297785280.0",
          "histogram": [
           {
            "bin_start": 0,
            "bin_end": 29778528,
            "count": 7
           },
           {
            "bin_start": 29778528,
            "bin_end": 59557056,
            "count": 0
           },
           {
            "bin_start": 59557056,
            "bin_end": 89335584,
            "count": 0
           },
           {
            "bin_start": 89335584,
            "bin_end": 119114112,
            "count": 0
           },
           {
            "bin_start": 119114112,
            "bin_end": 148892640,
            "count": 0
           },
           {
            "bin_start": 148892640,
            "bin_end": 178671168,
            "count": 0
           },
           {
            "bin_start": 178671168,
            "bin_end": 208449696,
            "count": 0
           },
           {
            "bin_start": 208449696,
            "bin_end": 238228224,
            "count": 0
           },
           {
            "bin_start": 238228224,
            "bin_end": 268006752,
            "count": 0
           },
           {
            "bin_start": 268006752,
            "bin_end": 297785280,
            "count": 1
           }
          ]
         }
        },
        {
         "name": "YEAR",
         "dtype": "float64",
         "stats": {
          "unique_count": 8,
          "nan_count": 0,
          "min": "1.404459756712593",
          "max": "857216.0",
          "histogram": [
           {
            "bin_start": 1.404459756712593,
            "bin_end": 85722.86401378104,
            "count": 7
           },
           {
            "bin_start": 85722.86401378104,
            "bin_end": 171444.32356780538,
            "count": 0
           },
           {
            "bin_start": 171444.32356780538,
            "bin_end": 257165.7831218297,
            "count": 0
           },
           {
            "bin_start": 257165.7831218297,
            "bin_end": 342887.24267585407,
            "count": 0
           },
           {
            "bin_start": 342887.24267585407,
            "bin_end": 428608.7022298784,
            "count": 0
           },
           {
            "bin_start": 428608.7022298784,
            "bin_end": 514330.16178390273,
            "count": 0
           },
           {
            "bin_start": 514330.16178390273,
            "bin_end": 600051.6213379271,
            "count": 0
           },
           {
            "bin_start": 600051.6213379271,
            "bin_end": 685773.0808919513,
            "count": 0
           },
           {
            "bin_start": 685773.0808919513,
            "bin_end": 771494.5404459756,
            "count": 0
           },
           {
            "bin_start": 771494.5404459756,
            "bin_end": 857216,
            "count": 1
           }
          ]
         }
        },
        {
         "name": "_deepnote_index_column",
         "dtype": "object"
        }
       ],
       "rows_top": [
        {
         "PREVAILING_WAGE": 857212,
         "YEAR": 857216,
         "_deepnote_index_column": "count"
        },
        {
         "PREVAILING_WAGE": 95400.7422045011,
         "YEAR": 2016.9977776896371,
         "_deepnote_index_column": "mean"
        },
        {
         "PREVAILING_WAGE": 1755489.3601115532,
         "YEAR": 1.404459756712593,
         "_deepnote_index_column": "std"
        },
        {
         "PREVAILING_WAGE": 0,
         "YEAR": 2015,
         "_deepnote_index_column": "min"
        },
        {
         "PREVAILING_WAGE": 58510,
         "YEAR": 2016,
         "_deepnote_index_column": "25%"
        },
        {
         "PREVAILING_WAGE": 70325,
         "YEAR": 2017,
         "_deepnote_index_column": "50%"
        },
        {
         "PREVAILING_WAGE": 86362,
         "YEAR": 2018,
         "_deepnote_index_column": "75%"
        },
        {
         "PREVAILING_WAGE": 297785280,
         "YEAR": 2019,
         "_deepnote_index_column": "max"
        }
       ],
       "rows_bottom": null
      },
      "text/html": [
       "<div>\n",
       "<style scoped>\n",
       "    .dataframe tbody tr th:only-of-type {\n",
       "        vertical-align: middle;\n",
       "    }\n",
       "\n",
       "    .dataframe tbody tr th {\n",
       "        vertical-align: top;\n",
       "    }\n",
       "\n",
       "    .dataframe thead th {\n",
       "        text-align: right;\n",
       "    }\n",
       "</style>\n",
       "<table border=\"1\" class=\"dataframe\">\n",
       "  <thead>\n",
       "    <tr style=\"text-align: right;\">\n",
       "      <th></th>\n",
       "      <th>PREVAILING_WAGE</th>\n",
       "      <th>YEAR</th>\n",
       "    </tr>\n",
       "  </thead>\n",
       "  <tbody>\n",
       "    <tr>\n",
       "      <th>count</th>\n",
       "      <td>8.572120e+05</td>\n",
       "      <td>857216.000000</td>\n",
       "    </tr>\n",
       "    <tr>\n",
       "      <th>mean</th>\n",
       "      <td>9.540074e+04</td>\n",
       "      <td>2016.997778</td>\n",
       "    </tr>\n",
       "    <tr>\n",
       "      <th>std</th>\n",
       "      <td>1.755489e+06</td>\n",
       "      <td>1.404460</td>\n",
       "    </tr>\n",
       "    <tr>\n",
       "      <th>min</th>\n",
       "      <td>0.000000e+00</td>\n",
       "      <td>2015.000000</td>\n",
       "    </tr>\n",
       "    <tr>\n",
       "      <th>25%</th>\n",
       "      <td>5.851000e+04</td>\n",
       "      <td>2016.000000</td>\n",
       "    </tr>\n",
       "    <tr>\n",
       "      <th>50%</th>\n",
       "      <td>7.032500e+04</td>\n",
       "      <td>2017.000000</td>\n",
       "    </tr>\n",
       "    <tr>\n",
       "      <th>75%</th>\n",
       "      <td>8.636200e+04</td>\n",
       "      <td>2018.000000</td>\n",
       "    </tr>\n",
       "    <tr>\n",
       "      <th>max</th>\n",
       "      <td>2.977853e+08</td>\n",
       "      <td>2019.000000</td>\n",
       "    </tr>\n",
       "  </tbody>\n",
       "</table>\n",
       "</div>"
      ],
      "text/plain": [
       "       PREVAILING_WAGE           YEAR\n",
       "count     8.572120e+05  857216.000000\n",
       "mean      9.540074e+04    2016.997778\n",
       "std       1.755489e+06       1.404460\n",
       "min       0.000000e+00    2015.000000\n",
       "25%       5.851000e+04    2016.000000\n",
       "50%       7.032500e+04    2017.000000\n",
       "75%       8.636200e+04    2018.000000\n",
       "max       2.977853e+08    2019.000000"
      ]
     },
     "metadata": {},
     "execution_count": 4
    }
   ],
   "metadata": {
    "tags": [],
    "cell_id": "00008-cde32d53-03c3-448e-b596-8d886f9bd375",
    "deepnote_to_be_reexecuted": false,
    "source_hash": "9d8cdb8d",
    "execution_start": 1632177915733,
    "execution_millis": 186,
    "deepnote_cell_type": "code"
   }
  },
  {
   "cell_type": "code",
   "execution_count": 4,
   "source": [],
   "outputs": [],
   "metadata": {
    "cell_id": "00005-3008264e-8555-46ee-8679-ba70045f0f95",
    "deepnote_to_be_reexecuted": false,
    "source_hash": "b623e53d",
    "execution_start": 1632177915881,
    "execution_millis": 530914,
    "deepnote_cell_type": "code"
   }
  },
  {
   "cell_type": "markdown",
   "source": [
    "## III. Data Preparation\n",
    "\n",
    "+ Select data:   \n",
    "+ Clean data:   \n",
    "+ Construct data/transform data/feature engineering:   \n",
    "+ Integrate data:   \n",
    "+ (Re) Format data:   "
   ],
   "metadata": {
    "cell_id": "00006-4645a438-1061-4d27-b5b3-d14ed4141ef2",
    "deepnote_cell_type": "markdown"
   }
  },
  {
   "cell_type": "code",
   "execution_count": null,
   "source": [
    "#Correção de nome e códigos trocados\n",
    "\n",
    "soc_code = '17-2141'\n",
    "soc_name = 'MECHANICAL ENGINEERS'\n",
    "data1['SOC_NAME'][397759] = soc_name\n",
    "data1['SOC_CODE'][397759] = soc_code"
   ],
   "outputs": [],
   "metadata": {
    "tags": [],
    "cell_id": "00011-1ae4fef2-f48f-480e-95ce-f55aeb8ae077",
    "deepnote_cell_type": "code"
   }
  },
  {
   "cell_type": "code",
   "execution_count": null,
   "source": [
    "#Correção de nome e códigos trocados\n",
    "\n",
    "data1[data1[\"SOC_CODE\"] == \"SOFTWARE DEVELOPERS, APPLICATIONS\"]\n",
    "\n",
    "dic1 = {\"15-1132\": \"SOFTWARE DEVELOPERS, APPLICATIONS\"}\n",
    "dic2 = {\"SOFTWARE DEVELOPERS, APPLICATIONS\": \"15-1132\"}\n",
    "\n",
    "data1[\"SOC_CODE\"] = data1[\"SOC_CODE\"].replace(dic2) \n",
    "data1[\"SOC_NAME\"] = data1[\"SOC_NAME\"].replace(dic1)"
   ],
   "outputs": [],
   "metadata": {
    "tags": [],
    "cell_id": "00012-b0afd8c5-9d1c-4c19-b6cc-de79bea3860e",
    "deepnote_cell_type": "code"
   }
  },
  {
   "cell_type": "code",
   "execution_count": null,
   "source": [
    "#Correção de nome e códigos trocados\n",
    "\n",
    "data1[data1[\"SOC_CODE\"] == \"COMPUTER SYSTEMS ANALYSTS\"]\n",
    "\n",
    "dic1 = {\"15-1121\": \"COMPUTER SYSTEMS ANALYSTS\"}\n",
    "dic2 = {\"COMPUTER SYSTEMS ANALYSTS\": \"15-1121\"}\n",
    "\n",
    "data1[\"SOC_CODE\"] = data1[\"SOC_CODE\"].replace(dic2) \n",
    "data1[\"SOC_NAME\"] = data1[\"SOC_NAME\"].replace(dic1)"
   ],
   "outputs": [],
   "metadata": {
    "tags": [],
    "cell_id": "00013-e734bd24-716e-4155-9657-2f621686f2d2",
    "deepnote_cell_type": "code"
   }
  },
  {
   "cell_type": "code",
   "execution_count": null,
   "source": [
    "#Correção de nome e códigos trocados\n",
    "\n",
    "data1[data1[\"SOC_CODE\"] == \"OPERATIONS RESEARCH ANALYSTS\"]\n",
    "\n",
    "dic1 = {\"15-2031\": \"OPERATIONS RESEARCH ANALYSTS\"}\n",
    "dic2 = {\"OPERATIONS RESEARCH ANALYSTS\": \"15-2031\"}\n",
    "\n",
    "data1[\"SOC_CODE\"] = data1[\"SOC_CODE\"].replace(dic2) \n",
    "data1[\"SOC_NAME\"] = data1[\"SOC_NAME\"].replace(dic1)"
   ],
   "outputs": [],
   "metadata": {
    "tags": [],
    "cell_id": "00013-0365bec8-ff37-455a-8489-fd045820f048",
    "deepnote_cell_type": "code"
   }
  },
  {
   "cell_type": "code",
   "execution_count": 5,
   "source": [
    "#Identificando os estados por caso\n",
    "\n",
    "states = list(set(data1['WORKSITE_STATE_FULL']))\n",
    "states_dict = {}\n",
    "type(states_dict)\n",
    "count = 1\n",
    "for i in states:\n",
    "    states_dict[i] = count\n",
    "    count +=1\n",
    "\n",
    "data1['STATE_ID'] = data1['WORKSITE_STATE_FULL'].map(states_dict)\n",
    "data1['STATE_ID']"
   ],
   "outputs": [
    {
     "output_type": "execute_result",
     "data": {
      "text/plain": [
       "0         7\n",
       "1         7\n",
       "2         8\n",
       "3         3\n",
       "4         3\n",
       "         ..\n",
       "857211    3\n",
       "857212    6\n",
       "857213    1\n",
       "857214    3\n",
       "857215    6\n",
       "Name: STATE_ID, Length: 857216, dtype: int64"
      ]
     },
     "metadata": {},
     "execution_count": 5
    }
   ],
   "metadata": {
    "tags": [],
    "cell_id": "00015-10476775-d068-425e-b867-b963990be3dc",
    "deepnote_to_be_reexecuted": false,
    "source_hash": "58f43ddc",
    "execution_start": 1632180770413,
    "execution_millis": 13,
    "deepnote_cell_type": "code"
   }
  },
  {
   "cell_type": "code",
   "execution_count": null,
   "source": [
    "#Identificando as cidades por caso\n",
    "\n",
    "cities = list(set(data1['WORKSITE_CITY']))\n",
    "cities_dict = {}\n",
    "type(cities_dict)\n",
    "count = 1\n",
    "for i in cities:\n",
    "    cities_dict[i] = count\n",
    "    count +=1\n",
    "\n",
    "data1['CITY_ID'] = data1['WORKSITE_CITY'].map(cities_dict)\n",
    "data1['CITY_ID']"
   ],
   "outputs": [],
   "metadata": {
    "tags": [],
    "cell_id": "00016-23443b1c-6213-4a6c-8e9b-c17dd1b4013b",
    "deepnote_cell_type": "code"
   }
  },
  {
   "cell_type": "code",
   "execution_count": 5,
   "source": [],
   "outputs": [],
   "metadata": {
    "cell_id": "00007-19fe03bf-2ca6-4962-be69-8722cfbaf3dc",
    "deepnote_to_be_reexecuted": false,
    "source_hash": "b623e53d",
    "execution_start": 1632180770415,
    "execution_millis": 1,
    "deepnote_cell_type": "code"
   }
  },
  {
   "cell_type": "markdown",
   "source": [
    "## IV. Modeling\n",
    "\n",
    "+ Select modeling techniques: \n",
    "+ Generate test design: \n",
    "+ Build model: \n",
    "+ Assess model:  "
   ],
   "metadata": {
    "cell_id": "00008-592c83dc-f88a-4061-963c-d307fca86f42",
    "deepnote_cell_type": "markdown"
   }
  },
  {
   "cell_type": "code",
   "execution_count": 4,
   "source": [],
   "outputs": [],
   "metadata": {
    "cell_id": "00009-cc414743-e10f-4036-97c7-8728e515a327",
    "deepnote_to_be_reexecuted": false,
    "source_hash": "b623e53d",
    "execution_start": 1632177915892,
    "execution_millis": 530866,
    "deepnote_cell_type": "code"
   }
  },
  {
   "cell_type": "markdown",
   "source": [
    "## V. Evaluation                    \n",
    "\n",
    "+ Evaluate results: \n",
    "+ Review process: \n",
    "+ Determine next steps: "
   ],
   "metadata": {
    "cell_id": "00010-46132b4d-f9bc-4e9d-8a73-9f8d62004a3b",
    "deepnote_cell_type": "markdown"
   }
  },
  {
   "cell_type": "code",
   "execution_count": 4,
   "source": [],
   "outputs": [],
   "metadata": {
    "cell_id": "00011-f42539e9-97f1-44b1-96f3-9ec52eb53163",
    "deepnote_to_be_reexecuted": false,
    "source_hash": "b623e53d",
    "execution_start": 1632177915921,
    "execution_millis": 530869,
    "deepnote_cell_type": "code"
   }
  },
  {
   "cell_type": "markdown",
   "source": [
    "## VI. Deployment\n",
    "\n",
    "+ Plan deployment: \n",
    "+ Plan monitoring and maintenance: \n",
    "+ Produce final report: \n",
    "+ Review project: "
   ],
   "metadata": {
    "cell_id": "00012-cfc3f135-a65f-4773-aa0c-e5cf69d19453",
    "deepnote_cell_type": "markdown"
   }
  },
  {
   "cell_type": "code",
   "execution_count": 4,
   "source": [],
   "outputs": [],
   "metadata": {
    "cell_id": "00013-61288a64-7298-4557-9264-38c6c62c3efc",
    "deepnote_to_be_reexecuted": false,
    "source_hash": "b623e53d",
    "execution_start": 1632177915921,
    "execution_millis": 530870,
    "deepnote_cell_type": "code"
   }
  }
 ],
 "nbformat": 4,
 "nbformat_minor": 4,
 "metadata": {
  "kernelspec": {
   "display_name": "Python 3",
   "language": "python",
   "name": "python3"
  },
  "language_info": {
   "codemirror_mode": {
    "name": "ipython",
    "version": 3
   },
   "file_extension": ".py",
   "mimetype": "text/x-python",
   "name": "python",
   "nbconvert_exporter": "python",
   "pygments_lexer": "ipython3",
   "version": "3.7.6"
  },
  "deepnote_notebook_id": "b5c08d6c-d73c-4799-aac9-3ded086dda41",
  "deepnote": {},
  "deepnote_execution_queue": []
 }
}